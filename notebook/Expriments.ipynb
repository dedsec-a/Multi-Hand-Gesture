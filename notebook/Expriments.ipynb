{
 "cells": [
  {
   "cell_type": "code",
   "execution_count": 2,
   "metadata": {},
   "outputs": [
    {
     "name": "stdout",
     "output_type": "stream",
     "text": [
      "Let's Start making Gesture Control\n"
     ]
    }
   ],
   "source": [
    "print(\"Let's Start making Gesture Control\")"
   ]
  },
  {
   "cell_type": "code",
   "execution_count": 3,
   "metadata": {},
   "outputs": [],
   "source": [
    "import cv2\n",
    "import mediapipe as mp\n",
    "import numpy as np \n",
    "import pandas as pd"
   ]
  },
  {
   "cell_type": "code",
   "execution_count": 4,
   "metadata": {},
   "outputs": [
    {
     "name": "stdout",
     "output_type": "stream",
     "text": [
      "Open_CV Version : 4.11.0\n"
     ]
    }
   ],
   "source": [
    "\n",
    "\n",
    "\n",
    "print(f'Open_CV Version : {cv2.__version__}' )"
   ]
  },
  {
   "cell_type": "code",
   "execution_count": 5,
   "metadata": {},
   "outputs": [],
   "source": [
    "mp_hands = mp.solutions.hands\n",
    "mp_draw = mp.solutions.drawing_utils\n",
    "hands = mp_hands.Hands(min_detection_confidence =0.7 , min_tracking_confidence = 0.7)\n",
    "\n",
    "cap = cv2.VideoCapture(0)\n",
    "while cap.isOpened():\n",
    "    ret , frame  = cap.read()\n",
    "    if not ret:\n",
    "        break\n",
    "    # Converting the Frame to RGb\n",
    "    frame_rgb = cv2.cvtColor(frame , cv2.COLOR_BGR2RGB)\n",
    "\n",
    "    results = hands.process(frame_rgb)\n",
    "    if results.multi_hand_landmarks:\n",
    "        for hand_landmarks in results.multi_hand_landmarks:\n",
    "            mp_draw.draw_landmarks(frame, hand_landmarks , mp_hands.HAND_CONNECTIONS)\n",
    "    \n",
    "    # Showing the Output Window\n",
    "    cv2.imshow(\"Hand Tracking Expriment\" , frame)\n",
    "\n",
    "    if cv2.waitKey(1) & 0xFF == ord('q'):\n",
    "        break\n",
    "\n",
    "cap.release()\n",
    "cv2.destroyAllWindows()\n",
    "       "
   ]
  },
  {
   "cell_type": "code",
   "execution_count": null,
   "metadata": {},
   "outputs": [],
   "source": [
    "import cv2\n",
    "import time \n",
    "import pandas as pd\n",
    "import mediapipe as mp\n",
    "import numpy as np\n",
    "import csv\n",
    "\n",
    "gesture_name = input(\"Enter the Gesture Name \")\n",
    "file_path = f\"data/raw/{gesture_name}.csv\"\n",
    "\n",
    "file = open(file_path, 'w', newline= \"\")\n",
    "writer = csv.writer(file)\n",
    "\n",
    "print(f\"Collecting the data for {gesture_name}\")\n",
    "time.sleep(5)\n",
    "\n",
    "\n",
    "cap = cv2.VideoCapture(0)\n",
    "\n",
    "while cap.isOpened():\n",
    "    ret , frame = cap.read()\n",
    "\n",
    "    if not ret:\n",
    "        break\n",
    "\n",
    "    frame_rgb = cv2.cvtColor(frame , cv2.COLOR_BGR2RGB)\n",
    "    result = hands.process(frame_rgb)\n",
    "\n",
    "    if result.multi_hand_landmarks:\n",
    "        for hand_landmarks in result.multi_hand_landmarks:\n",
    "            mp_draw.draw_landmarks(frame , hand_landmarks , mp_hands.HANDS_COLLECTION)\n",
    "\n",
    "            # Extracting 21 landmark postion \n",
    "            landmarks = []\n",
    "            for landmark in hand_landmarks.landmark:\n",
    "                landmarks.append(landmark.x)\n",
    "                landmarks.append(landmark.y)\n",
    "                landmarks.append(landmark.z)\n",
    "\n",
    "            # Gesture name \n",
    "            landmarks.append(gesture_name)\n",
    "\n",
    "            # Save as CSV\n",
    "\n",
    "            writer.writerow(landmarks)\n",
    "\n",
    "    cv2.imshow(\"Collecting the Date \"+ gesture_name , frame)\n",
    "    if cv2.waitKey(1) & 0xFF == ord('q'):\n",
    "            break\n",
    "    cv2.release()\n",
    "    cv2.destroyAllWindows()\n",
    "    file.close()\n",
    "print(f\"✅ Data collection for '{gesture_name}' complete! Saved in {file_path}\")\n",
    "       \n",
    "\n",
    "\n",
    "    "
   ]
  },
  {
   "cell_type": "code",
   "execution_count": null,
   "metadata": {},
   "outputs": [],
   "source": []
  }
 ],
 "metadata": {
  "kernelspec": {
   "display_name": "gesture_env",
   "language": "python",
   "name": "python3"
  },
  "language_info": {
   "codemirror_mode": {
    "name": "ipython",
    "version": 3
   },
   "file_extension": ".py",
   "mimetype": "text/x-python",
   "name": "python",
   "nbconvert_exporter": "python",
   "pygments_lexer": "ipython3",
   "version": "3.11.11"
  }
 },
 "nbformat": 4,
 "nbformat_minor": 2
}
