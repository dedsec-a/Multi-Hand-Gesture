{
 "cells": [
  {
   "cell_type": "code",
   "execution_count": 2,
   "metadata": {},
   "outputs": [
    {
     "name": "stdout",
     "output_type": "stream",
     "text": [
      "Let's Start making Gesture Control\n"
     ]
    }
   ],
   "source": [
    "print(\"Let's Start making Gesture Control\")"
   ]
  },
  {
   "cell_type": "code",
   "execution_count": 3,
   "metadata": {},
   "outputs": [],
   "source": [
    "import cv2\n",
    "import mediapipe as mp\n",
    "import numpy as np \n",
    "import pandas as pd"
   ]
  },
  {
   "cell_type": "code",
   "execution_count": 4,
   "metadata": {},
   "outputs": [
    {
     "name": "stdout",
     "output_type": "stream",
     "text": [
      "Open_CV Version : 4.11.0\n"
     ]
    }
   ],
   "source": [
    "\n",
    "\n",
    "\n",
    "print(f'Open_CV Version : {cv2.__version__}' )"
   ]
  },
  {
   "cell_type": "code",
   "execution_count": 5,
   "metadata": {},
   "outputs": [],
   "source": [
    "mp_hands = mp.solutions.hands\n",
    "mp_draw = mp.solutions.drawing_utils\n",
    "hands = mp_hands.Hands(min_detection_confidence =0.7 , min_tracking_confidence = 0.7)\n",
    "\n",
    "cap = cv2.VideoCapture(0)\n",
    "while cap.isOpened():\n",
    "    ret , frame  = cap.read()\n",
    "    if not ret:\n",
    "        break\n",
    "    # Converting the Frame to RGb\n",
    "    frame_rgb = cv2.cvtColor(frame , cv2.COLOR_BGR2RGB)\n",
    "\n",
    "    results = hands.process(frame_rgb)\n",
    "    if results.multi_hand_landmarks:\n",
    "        for hand_landmarks in results.multi_hand_landmarks:\n",
    "            mp_draw.draw_landmarks(frame, hand_landmarks , mp_hands.HAND_CONNECTIONS)\n",
    "    \n",
    "    # Showing the Output Window\n",
    "    cv2.imshow(\"Hand Tracking Expriment\" , frame)\n",
    "\n",
    "    if cv2.waitKey(1) & 0xFF == ord('q'):\n",
    "        break\n",
    "\n",
    "cap.release()\n",
    "cv2.destroyAllWindows()\n",
    "       "
   ]
  },
  {
   "cell_type": "code",
   "execution_count": null,
   "metadata": {},
   "outputs": [
    {
     "name": "stdout",
     "output_type": "stream",
     "text": [
      "Collecting the data for Palm\n"
     ]
    },
    {
     "ename": "AttributeError",
     "evalue": "module 'mediapipe.python.solutions.hands' has no attribute 'HANDS_CONNECTIONS'",
     "output_type": "error",
     "traceback": [
      "\u001b[1;31m---------------------------------------------------------------------------\u001b[0m",
      "\u001b[1;31mAttributeError\u001b[0m                            Traceback (most recent call last)",
      "Cell \u001b[1;32mIn[6], line 31\u001b[0m\n\u001b[0;32m     29\u001b[0m \u001b[38;5;28;01mif\u001b[39;00m result\u001b[38;5;241m.\u001b[39mmulti_hand_landmarks:\n\u001b[0;32m     30\u001b[0m     \u001b[38;5;28;01mfor\u001b[39;00m hand_landmarks \u001b[38;5;129;01min\u001b[39;00m result\u001b[38;5;241m.\u001b[39mmulti_hand_landmarks:\n\u001b[1;32m---> 31\u001b[0m         mp_draw\u001b[38;5;241m.\u001b[39mdraw_landmarks(frame , hand_landmarks , \u001b[43mmp_hands\u001b[49m\u001b[38;5;241;43m.\u001b[39;49m\u001b[43mHANDS_CONNECTIONS\u001b[49m)\n\u001b[0;32m     33\u001b[0m         \u001b[38;5;66;03m# Extracting 21 landmark postion \u001b[39;00m\n\u001b[0;32m     34\u001b[0m         landmarks \u001b[38;5;241m=\u001b[39m []\n",
      "\u001b[1;31mAttributeError\u001b[0m: module 'mediapipe.python.solutions.hands' has no attribute 'HANDS_CONNECTIONS'"
     ]
    }
   ],
   "source": [
    "import cv2\n",
    "import time \n",
    "import pandas as pd\n",
    "import mediapipe as mp\n",
    "import numpy as np\n",
    "import csv\n",
    "\n",
    "gesture_name = input(\"Enter the Gesture Name \")\n",
    "file_path = f\"data/raw/{gesture_name}.csv\"\n",
    "\n",
    "file = open(file_path, 'w', newline= \"\")\n",
    "writer = csv.writer(file)\n",
    "\n",
    "print(f\"Collecting the data for {gesture_name}\")\n",
    "time.sleep(5)\n",
    "\n",
    "\n",
    "cap = cv2.VideoCapture(0)\n",
    "\n",
    "while cap.isOpened():\n",
    "    ret , frame = cap.read()\n",
    "\n",
    "    if not ret:\n",
    "        break\n",
    "\n",
    "    frame_rgb = cv2.cvtColor(frame , cv2.COLOR_BGR2RGB)\n",
    "    result = hands.process(frame_rgb)\n",
    "\n",
    "    if result.multi_hand_landmarks:\n",
    "        for hand_landmarks in result.multi_hand_landmarks:\n",
    "            mp_draw.draw_landmarks(frame, hand_landmarks , mp_hands.HAND_CONNECTIONS)\n",
    "\n",
    "            # Extracting 21 landmark postion \n",
    "            landmarks = []\n",
    "            for landmark in hand_landmarks.landmark:\n",
    "                landmarks.append(landmark.x)\n",
    "                landmarks.append(landmark.y)\n",
    "                landmarks.append(landmark.z)\n",
    "\n",
    "            # Gesture name \n",
    "            landmarks.append(gesture_name)\n",
    "\n",
    "            # Save as CSV\n",
    "\n",
    "            writer.writerow(landmarks)\n",
    "\n",
    "    cv2.imshow(\"Collecting the Date \"+ gesture_name , frame)\n",
    "    if cv2.waitKey(1) & 0xFF == ord('q'):\n",
    "            break\n",
    "cv2.release()\n",
    "cv2.destroyAllWindows()\n",
    "file.close()\n",
    "print(f\"✅ Data collection for '{gesture_name}' complete! Saved in {file_path}\")\n",
    "       \n",
    "\n",
    "\n",
    "    "
   ]
  },
  {
   "cell_type": "code",
   "execution_count": null,
   "metadata": {},
   "outputs": [],
   "source": []
  },
  {
   "cell_type": "code",
   "execution_count": null,
   "metadata": {},
   "outputs": [
    {
     "name": "stdout",
     "output_type": "stream",
     "text": [
      "📌 Collecting data for 'palm'. Move your hand in different positions!\n",
      "✅ Data collection for 'palm' complete! Saved in data/raw/palm.csv\n"
     ]
    }
   ],
   "source": [
    "import cv2\n",
    "import mediapipe as mp\n",
    "import numpy as np\n",
    "import csv\n",
    "import time\n",
    "import os\n",
    "\n",
    "# Initialize MediaPipe Hand Tracking\n",
    "mp_hands = mp.solutions.hands\n",
    "mp_draw = mp.solutions.drawing_utils\n",
    "hands = mp_hands.Hands(min_detection_confidence=0.7, min_tracking_confidence=0.7)\n",
    "\n",
    "# Ask user for gesture name\n",
    "gesture_name = input(\"Enter the gesture name (e.g., Thumbs_Up, Fist, Peace_Sign): \")\n",
    "file_path = f\"data/raw/{gesture_name}.csv\"\n",
    "\n",
    "# Create the directory if it doesn't exist\n",
    "os.makedirs(\"data/raw\", exist_ok=True)\n",
    "\n",
    "# Open CSV file in write mode\n",
    "with open(file_path, \"w\", newline=\"\") as file:\n",
    "    writer = csv.writer(file)\n",
    "    \n",
    "    # Write header (column names)\n",
    "    header = []\n",
    "    for i in range(21):  # 21 hand landmarks\n",
    "        header.append(f\"X{i+1}\")\n",
    "        header.append(f\"Y{i+1}\")\n",
    "        header.append(f\"Z{i+1}\")\n",
    "    header.append(\"Gesture\")  # Last column for gesture label\n",
    "    writer.writerow(header)\n",
    "\n",
    "    print(f\"📌 Collecting data for '{gesture_name}'. Move your hand in different positions!\")\n",
    "    time.sleep(3)  # Give user time to position hand\n",
    "\n",
    "    # Start Webcam\n",
    "    cap = cv2.VideoCapture(0)\n",
    "\n",
    "    while cap.isOpened():\n",
    "        ret, frame = cap.read()\n",
    "        if not ret:\n",
    "            break\n",
    "\n",
    "        # Convert frame to RGB (MediaPipe needs RGB format)\n",
    "        frame_rgb = cv2.cvtColor(frame, cv2.COLOR_BGR2RGB)\n",
    "        results = hands.process(frame_rgb)\n",
    "\n",
    "        if results.multi_hand_landmarks:\n",
    "            for hand_landmarks in results.multi_hand_landmarks:\n",
    "                mp_draw.draw_landmarks(frame, hand_landmarks, mp_hands.HAND_CONNECTIONS)\n",
    "\n",
    "                # Extract 21 landmark positions (x, y, z)\n",
    "                landmarks = []\n",
    "                for landmark in hand_landmarks.landmark:\n",
    "                    landmarks.append(landmark.x)\n",
    "                    landmarks.append(landmark.y)\n",
    "                    landmarks.append(landmark.z)\n",
    "\n",
    "                # Add the gesture name at the end\n",
    "                landmarks.append(gesture_name)\n",
    "\n",
    "                # Save data to CSV\n",
    "                writer.writerow(landmarks)\n",
    "\n",
    "        # Show the webcam feed\n",
    "        cv2.imshow(\"Collecting Data - \" + gesture_name, frame)\n",
    "\n",
    "        # Press 'q' to stop data collection\n",
    "        if cv2.waitKey(1) & 0xFF == ord('q'):\n",
    "            break\n",
    "\n",
    "    cap.release()\n",
    "    cv2.destroyAllWindows()\n",
    "\n",
    "print(f\"✅ Data collection for '{gesture_name}' complete! Saved in {file_path}\")\n"
   ]
  },
  {
   "cell_type": "code",
   "execution_count": null,
   "metadata": {},
   "outputs": [],
   "source": []
  }
 ],
 "metadata": {
  "kernelspec": {
   "display_name": "gesture_env",
   "language": "python",
   "name": "python3"
  },
  "language_info": {
   "codemirror_mode": {
    "name": "ipython",
    "version": 3
   },
   "file_extension": ".py",
   "mimetype": "text/x-python",
   "name": "python",
   "nbconvert_exporter": "python",
   "pygments_lexer": "ipython3",
   "version": "3.11.11"
  }
 },
 "nbformat": 4,
 "nbformat_minor": 2
}
